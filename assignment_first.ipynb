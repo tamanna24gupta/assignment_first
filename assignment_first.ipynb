{
 "cells": [
  {
   "cell_type": "markdown",
   "id": "2ca4743c-7c95-4df2-af6e-3491f157f9cc",
   "metadata": {},
   "source": [
    "  1. Explain the key features of Python that make it a popular choice for programming.\n",
    "  Python's combination of readability, simplicity, versatility, and a strong community has contributed to its widespread adoption and       popularity across various fields.\n",
    "•\tClear Syntax: Python provides code readability with its clean and consistent syntax, making it easier to write and understand code.\n",
    "•\tIndentation: Python uses whitespace indentation to define code blocks and reducing potential errors.\n",
    "•\tFlexibility: Developers don't need to specify data types beforehand, saving time and effort.\n",
    "•\tTime Savings: Developers can use existing modules instead of writing code from scratch.\n",
    "•\tCode Organization: Python supports OOP concepts like classes, objects, inheritance, and polymorphism, promoting modular and reusable    code.\n",
    "•\tMultiple Domains: Python is used in web development, data science, machine learning, scientific computing, automation, and more.\n",
    "•\tAdaptability: Its flexibility allows it to be applied to a wide range of applications.\n",
    "•\tRapid Development: Developers can write code faster compared to lower-level languages."
   ]
  },
  {
   "cell_type": "markdown",
   "id": "94dd3ca4-040b-4e21-ad83-ea0f1b8cb85e",
   "metadata": {},
   "source": [
    " 2. Describe the role of predefined keywords in Python and provide examples of how they are used in a program.\n",
    "\n",
    "Keywords are reserved words in Python that have special meanings and are used to control the structure and logic of a program. \n",
    "Keywords like def, class, if, else, for, while are used to define functions, classes, conditional statements, and loops, respectively.\n",
    "Keywords like break, continue, return are used to modify the execution flow of a program.\n",
    "keywords like None, True, False represent specific data types.\n",
    "Keywords like try, except, finally, raise are used to handle errors and exceptions gracefully.\n",
    "Keywords like import, from, global, nonlocal have specific roles in importing modules, declaring global and nonlocal variables, etc."
   ]
  },
  {
   "cell_type": "code",
   "execution_count": 2,
   "id": "e36e5dfb-7cfd-485d-aa24-a79bcf396cf7",
   "metadata": {},
   "outputs": [
    {
     "name": "stdout",
     "output_type": "stream",
     "text": [
      "You are a minor\n",
      "0\n",
      "1\n",
      "2\n",
      "3\n",
      "4\n"
     ]
    }
   ],
   "source": [
    "#examples of keyword usage \n",
    "# Conditional statement\n",
    "age=11\n",
    "if age >= 18:\n",
    "    print(\"You are an adult\")\n",
    "else:\n",
    "    print(\"You are a minor\")\n",
    "\n",
    "# Loop\n",
    "for i in range(5):\n",
    "    print(i)"
   ]
  },
  {
   "cell_type": "markdown",
   "id": "bd61236d-1e9b-4511-b579-802d1244dded",
   "metadata": {},
   "source": [
    "3. Compare and contrast mutable and immutable objects in Python with examples.\n",
    "\n",
    "Immutable objects cannot be modified once created. Any operation that appears to change the object actually creates a new object with the modified value.\n",
    "Examples of immutable objects:\n",
    "Numbers (integers, floats, complex)\n",
    "Strings\n",
    "Tuples\n",
    "Booleans\n",
    "\n",
    "Mutable objects can be modified in-place after creation. Changes made to the object are reflected in all references to that object.\n",
    "Examples of mutable objects:\n",
    "Lists\n",
    "Dictionaries\n",
    "Sets"
   ]
  },
  {
   "cell_type": "code",
   "execution_count": 4,
   "id": "dab2e748-8d1d-498c-9041-94c77fdb2d42",
   "metadata": {},
   "outputs": [
    {
     "name": "stdout",
     "output_type": "stream",
     "text": [
      "[1, 2, 3, 4] [1, 2, 3, 4]\n",
      "6 5\n"
     ]
    }
   ],
   "source": [
    "list1 = [1, 2, 3]\n",
    "list2 = list1  # Both list1 and list2 point to the same list object\n",
    "list1.append(4)\n",
    "print(list1, list2)  # Output: [1, 2, 3, 4] [1, 2, 3, 4]\n",
    "#Here, both list1 and list2 point to the same list object. When we append 4 to list1, the original list is modified,\n",
    "#and the change is reflected in list2 as well.\n",
    "\n",
    "\n",
    "x = 5\n",
    "y = x  # y also points to the same integer object 5\n",
    "x += 1  # Creates a new integer object 6 and assigns it to x\n",
    "print(x, y)  \n",
    "#n the above example, changing x to 6 doesn't modify the original integer object 5.\n",
    "#Instead, a new integer object 6 is created, and x is assigned to point to it."
   ]
  },
  {
   "cell_type": "markdown",
   "id": "16b44436-ddf1-498f-bfc4-9cd9b17551a3",
   "metadata": {},
   "source": [
    "4. Discuss the different types of operators in Python and provide examples of how they are used.\n",
    " Python offers a variety of operators to perform different operations on variables and values.\n",
    "Arithmetic Operators - Used for basic mathematical operations.\n",
    "  +\t   Addition\t            x + y\n",
    "  -\t   Subtraction\t        x - y\n",
    "  *\t   Multiplication\t    x * y\n",
    "  /\t   Division         \tx / y\n",
    "  %\t   Modulus (remainder)\tx % y\n",
    " //\t   Floor division   \tx // y\n",
    " **\t   Exponentiation\t    x ** y\n",
    "\n",
    "Comparison Operators\n",
    "Used to compare values and return Boolean results (True or False).\n",
    "==\tEqual to\t    x == y\n",
    "!=\tNot equal to\tx != y\n",
    ">\tGreater than\tx > y\n",
    "<\tLess than\t    x < y\n",
    "\n",
    "Identity Operators : is - Returns True if both variables refer to the same object\n",
    "                     is not- Returns True if both variables do not refer to the same object\n",
    "Membership Operators: in-Returns True if a value is present in a sequence\n",
    "                      not in -Returns True if a value is not present in a sequence\n",
    "Assignment Operators: -= ,+=,/=,//=,*=\n",
    "Logical Operators: and, or, not "
   ]
  },
  {
   "cell_type": "code",
   "execution_count": 5,
   "id": "19550f23-6b83-490a-a152-12c9f09179b5",
   "metadata": {},
   "outputs": [
    {
     "name": "stdout",
     "output_type": "stream",
     "text": [
      "True\n",
      "False\n",
      "8\n",
      "True\n",
      "True\n",
      "False\n"
     ]
    }
   ],
   "source": [
    "#EXAMPLES\n",
    "list1 = [1, 2, 3, 4, 5]\n",
    "x = 3\n",
    "print(x in list1)  # Output: True\n",
    "print(x not in list1)  # Output: False\n",
    "\n",
    "x = 5\n",
    "x += 3\n",
    "print(x)  # Output: 8\n",
    "\n",
    "\n",
    "x = 10\n",
    "y = 5\n",
    "print(x > 5 and y < 10)  # Output: True\n",
    "print(x > 5 or y > 10)  # Output: True\n",
    "print(not(x > y))  # Output: False"
   ]
  },
  {
   "cell_type": "markdown",
   "id": "feaeb75b-4cf2-4194-8291-55df03a14ac9",
   "metadata": {},
   "source": [
    "5. Explain the concept of type casting in Python with examples.\n",
    "Type casting is the process of converting one data type into another. Python supports both implicit and explicit type casting.\n",
    "\n",
    "Implicit Type Casting\n",
    "Python automatically converts one data type to another when it is necessary to prevent data loss.\n",
    "Explicit Type Casting\n",
    "You can manually convert one data type to another using built-in functions like int(), float(), str().\n"
   ]
  },
  {
   "cell_type": "code",
   "execution_count": 6,
   "id": "ff17cbf1-9a8c-4bef-a494-71ec41dfc79f",
   "metadata": {},
   "outputs": [
    {
     "name": "stdout",
     "output_type": "stream",
     "text": [
      "13.14\n",
      "13\n"
     ]
    }
   ],
   "source": [
    "#IMPLICIT\n",
    "x = 10  # Integer\n",
    "y = 3.14  # Float\n",
    "result = x + y\n",
    "print(result)  # Output: 13.14\n",
    "\n",
    "#EXPLICIT \n",
    "x = \"10\"  # String\n",
    "y = 3\n",
    "x = int(x)\n",
    "result = x + y\n",
    "print(result)  # Output: 13"
   ]
  },
  {
   "cell_type": "markdown",
   "id": "b409041b-0226-44c7-be16-a2bacadf6541",
   "metadata": {},
   "source": [
    "6. How do conditional statements work in Python? Illust$ate with examples.\n",
    "Conditional statements allow to control the flow of your Python program based on specific conditions. They let the developer make decisions and execute different code blocks depending on whether these conditions are true or false.\n",
    "The most basic conditional statement is the if statement. It executes a block of code if a specified condition is true.\n",
    "the else statement is used to specify a block of code to be executed if the condition is false.\n",
    "The elif statement allows  to check for multiple conditions sequentially.\n"
   ]
  },
  {
   "cell_type": "code",
   "execution_count": 7,
   "id": "06000d37-1741-426f-9e41-3387814670b0",
   "metadata": {},
   "outputs": [
    {
     "name": "stdout",
     "output_type": "stream",
     "text": [
      "You are a teenager.\n"
     ]
    }
   ],
   "source": [
    "age = 15\n",
    "\n",
    "if age >= 18:\n",
    "    print(\"You are an adult.\")\n",
    "elif age >= 13:\n",
    "    print(\"You are a teenager.\")\n",
    "else:\n",
    "    print(\"You are a child.\")"
   ]
  },
  {
   "cell_type": "markdown",
   "id": "6f598816-d140-42da-bc77-6ded2bbe9570",
   "metadata": {},
   "source": [
    "7. Describe the different types of loops in Python and their use cases with examples.\n",
    "Python offers two primary loop constructs: for and while.\n",
    "For Loops : Iterate over a sequence (list, tuple, string, dictionary, etc.)\n",
    "While Loops : Execute a block of code repeatedly as long as a condition is true.\n",
    "Use break to exit a loop prematurely and continue to skip the current iteration.\n",
    "Common Use Cases listed below-"
   ]
  },
  {
   "cell_type": "code",
   "execution_count": 9,
   "id": "df2a4b4d-1d61-463c-8d84-85f32b0ed852",
   "metadata": {},
   "outputs": [
    {
     "name": "stdout",
     "output_type": "stream",
     "text": [
      "*\n",
      "**\n",
      "***\n",
      "****\n",
      "*****\n",
      "2\n",
      "4\n",
      "6\n",
      "8\n",
      "10\n"
     ]
    }
   ],
   "source": [
    "#CREATING PATTERNS\n",
    "for i in range(5):\n",
    "    print(\"*\" * (i + 1))\n",
    "    \n",
    "#ITERATING OVER LISTS,TUPPLES\n",
    "numbers = [1, 2, 3, 4, 5]\n",
    "for num in numbers:\n",
    "    print(num * 2)\n",
    "    \n",
    "#IMPLEMENTING ALGORITHMS \n",
    "def factorial(n):\n",
    "    result = 1\n",
    "    while n > 1:\n",
    "        result *= n\n",
    "        n -= 1\n",
    "    return result"
   ]
  },
  {
   "cell_type": "code",
   "execution_count": null,
   "id": "65e55b00-9c39-4cc8-a6da-9b8ebfd30534",
   "metadata": {},
   "outputs": [],
   "source": []
  }
 ],
 "metadata": {
  "kernelspec": {
   "display_name": "Python 3 (ipykernel)",
   "language": "python",
   "name": "python3"
  },
  "language_info": {
   "codemirror_mode": {
    "name": "ipython",
    "version": 3
   },
   "file_extension": ".py",
   "mimetype": "text/x-python",
   "name": "python",
   "nbconvert_exporter": "python",
   "pygments_lexer": "ipython3",
   "version": "3.10.8"
  }
 },
 "nbformat": 4,
 "nbformat_minor": 5
}
